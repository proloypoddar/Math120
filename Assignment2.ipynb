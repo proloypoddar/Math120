{
  "nbformat": 4,
  "nbformat_minor": 0,
  "metadata": {
    "colab": {
      "provenance": []
    },
    "kernelspec": {
      "name": "python3",
      "display_name": "Python 3"
    },
    "language_info": {
      "name": "python"
    }
  },
  "cells": [
    {
      "cell_type": "markdown",
      "source": [
        "**Assignment 2** \\\\\n",
        "\n"
      ],
      "metadata": {
        "id": "CpsVN3NCts6q"
      }
    },
    {
      "cell_type": "markdown",
      "source": [
        "Plot the integrant using sympy, then finish the integral using sympy, ractangular method and monte carlo random numbers. \n",
        "\n",
        "\n",
        "1. $\\int \\sin (a x) e^{-b x} d x$\n",
        "\n",
        " How does this integral changes depending on the values of a and b ? \n",
        "\n",
        "\n",
        "2. $\\int_0^{\\infty} \\frac{\\sin ^{-1}(2 x)}{1+x^2} d x$\n",
        "3. $\\int_0^{2 \\pi} \\frac{1}{(a-\\cos (x))^2+(b-\\sin (x))^2} d x$\n",
        "4. $\\int_0^{\\infty} \\frac{\\cos ^{-1}(2 x)}{1+x^2} d x$\n",
        "5. $\\int_{-1}^2 x e^{6 x} d x$"
      ],
      "metadata": {
        "id": "jXdXb4XzuNsu"
      }
    },
    {
      "cell_type": "markdown",
      "source": [
        "\n",
        "1. $\\int \\sin (a x) e^{-b x} d x$\n",
        "\n",
        "\n"
      ],
      "metadata": {
        "id": "rY51quDQxZn-"
      }
    },
    {
      "cell_type": "code",
      "source": [
        "from sympy import *\n",
        "import matplotlib.pyplot as plt\n",
        "import numpy as np\n",
        "\n",
        "x, a, b = symbols('x a b')\n",
        "integrand = sin(a*x) * exp(-b*x)\n",
        "func = lambdify(x, integrand.subs([(a, 1), (b, 1)]), 'numpy')\n",
        "x_vals = np.linspace(-10, 10, 1000)\n",
        "y_vals = func(x_vals)\n",
        "plt.plot(x_vals, y_vals)\n",
        "plt.show()\n",
        "\n",
        "integrand = sin(a*x) * exp(-b*x)\n",
        "integral = integrate(integrand, x)\n",
        "integral = simplify(integral)\n",
        "pprint( integral)\n",
        "\n",
        "a_val = 1\n",
        "b_val = 1\n",
        "n = 1000\n",
        "dx = 20 / n\n",
        "area = 0\n",
        "for i in range(n):\n",
        "    x_val = -10 + i * dx\n",
        "    area += dx * integrand.subs([(a, a_val), (b, b_val), (x, x_val)]).evalf()\n",
        "print(f\"The rectangular method approximation with n={n} is: {area}\")\n",
        "\n",
        "a_val = 1\n",
        "b_val = 1\n",
        "n = 100000\n",
        "x_min = -10\n",
        "x_max = 10\n",
        "y_min = 0\n",
        "y_max = max(y_vals) \n",
        "\n",
        "area = 0\n",
        "for i in range(n):\n",
        "    x_val = np.random.uniform(x_min, x_max)\n",
        "    y_val = np.random.uniform(y_min, y_max)\n",
        "    if y_val <= func(x_val):\n",
        "        area += 1\n",
        "\n",
        "area_ratio = area / n\n",
        "integral = area_ratio * (x_max - x_min) * (y_max - y_min)\n",
        "\n",
        "print(f\"The Monte Carlo approximation with n={n} is: {integral}\")\n"
      ],
      "metadata": {
        "colab": {
          "base_uri": "https://localhost:8080/",
          "height": 760
        },
        "id": "71LAL1MxjZYW",
        "outputId": "01ea38f1-3f51-4eef-ff0d-0c044f213c86"
      },
      "execution_count": 3,
      "outputs": [
        {
          "output_type": "display_data",
          "data": {
            "text/plain": [
              "<Figure size 640x480 with 1 Axes>"
            ],
            "image/png": "[encoded data removed]"
          },
          "metadata": {}
        },
        {
          "output_type": "stream",
          "name": "stdout",
          "text": [
            "⎧                0                  for a = 0 ∧ b = 0\n",
            "⎪                                                    \n",
            "⎪   ⎛     b⋅x            ⎞  -b⋅x                     \n",
            "⎪-ⅈ⋅⎝b⋅x⋅ℯ    - sinh(b⋅x)⎠⋅ℯ                         \n",
            "⎪────────────────────────────────     for a = -ⅈ⋅b   \n",
            "⎪              2⋅b                                   \n",
            "⎪                                                    \n",
            "⎪   ⎛     b⋅x            ⎞  -b⋅x                     \n",
            "⎨ ⅈ⋅⎝b⋅x⋅ℯ    - sinh(b⋅x)⎠⋅ℯ                         \n",
            "⎪ ──────────────────────────────       for a = ⅈ⋅b   \n",
            "⎪              2⋅b                                   \n",
            "⎪                                                    \n",
            "⎪                            -b⋅x                    \n",
            "⎪-(a⋅cos(a⋅x) + b⋅sin(a⋅x))⋅ℯ                        \n",
            "⎪─────────────────────────────────      otherwise    \n",
            "⎪              2    2                                \n",
            "⎩             a  + b                                 \n",
            "The rectangular method approximation with n=1000 is: -3128.61483121915\n",
            "The Monte Carlo approximation with n=100000 is: 3197.027685827409\n"
          ]
        }
      ]
    },
    {
      "cell_type": "markdown",
      "source": [
        "\n",
        "2. $\\int_0^{\\infty} \\frac{\\sin ^{-1}(2 x)}{1+x^2} d x$\n"
      ],
      "metadata": {
        "id": "abbnASb9xiWT"
      }
    },
    {
      "cell_type": "code",
      "source": [
        "from sympy import *\n",
        "import numpy as np\n",
        "\n",
        "x = symbols('x')\n",
        "integrand = asin(2*x)/(1+x**2)\n",
        "integral = integrate(integrand, (x, 0, oo))\n",
        "print(f\"The exact value of the integral is: {integral.evalf()}\")\n",
        "\n",
        "func = lambdify(x, integrand, 'numpy')\n",
        "x_vals = np.linspace(0, 10, 1000)\n",
        "y_vals = func(x_vals)\n",
        "plt.plot(x_vals, y_vals)\n",
        "plt.show()\n",
        "\n",
        "n = 1000\n",
        "dx = 10 / n\n",
        "area = 0\n",
        "for i in range(n):\n",
        "    x_val = i * dx\n",
        "    area += dx * integrand.subs(x, x_val).evalf()\n",
        "print(f\"The rectangular method approximation with n={n} is: {area}\")\n",
        "\n",
        "n = 100000\n",
        "x_min = 0\n",
        "x_max = 10\n",
        "y_min = 0\n",
        "y_max = max(y_vals) \n",
        "\n",
        "area = 0\n",
        "for i in range(n):\n",
        "    x_val = np.random.uniform(x_min, x_max)\n",
        "    y_val = np.random.uniform(y_min, y_max)\n",
        "    if y_val <= func(x_val):\n",
        "        area += 1\n",
        "\n",
        "area_ratio = area / n\n",
        "integral = area_ratio * (x_max - x_min) * (y_max - y_min)\n",
        "\n",
        "print(f\"The Monte Carlo approximation with n={n} is: {integral}\")\n"
      ],
      "metadata": {
        "colab": {
          "base_uri": "https://localhost:8080/",
          "height": 517
        },
        "id": "qHceubxgt0Of",
        "outputId": "22378c8e-0e03-451b-867c-d113513d8607"
      },
      "execution_count": 4,
      "outputs": [
        {
          "output_type": "stream",
          "name": "stdout",
          "text": [
            "The exact value of the integral is: 1.99 - 2.27*I\n"
          ]
        },
        {
          "output_type": "stream",
          "name": "stderr",
          "text": [
            "<lambdifygenerated-4>:2: RuntimeWarning: invalid value encountered in arcsin\n",
            "  return arcsin(2*x)/(x**2 + 1)\n"
          ]
        },
        {
          "output_type": "display_data",
          "data": {
            "text/plain": [
              "<Figure size 640x480 with 1 Axes>"
            ],
            "image/png": "[encoded data removed]"
          },
          "metadata": {}
        },
        {
          "output_type": "stream",
          "name": "stdout",
          "text": [
            "The rectangular method approximation with n=1000 is: 1.83596070197369 - 1.79960822871234*I\n",
            "The Monte Carlo approximation with n=100000 is: 0.24325238585499323\n"
          ]
        }
      ]
    },
    {
      "cell_type": "markdown",
      "source": [
        "3. $\\int_0^{2 \\pi} \\frac{1}{(a-\\cos (x))^2+(b-\\sin (x))^2} d x$\n"
      ],
      "metadata": {
        "id": "OiHjzU92xuOZ"
      }
    },
    {
      "cell_type": "code",
      "source": [
        "from sympy import *\n",
        "import matplotlib.pyplot as plt\n",
        "import numpy as np\n",
        "\n",
        "x, a, b = symbols('x a b')\n",
        "integrand = 1 / ((a - cos(x))**2 + (b - sin(x))**2)\n",
        "func = lambdify(x, integrand.subs([(a, 2), (b, 3)]), 'numpy')\n",
        "x_vals = np.linspace(0, 2*np.pi, 1000)\n",
        "y_vals = func(x_vals)\n",
        "plt.plot(x_vals, y_vals)\n",
        "plt.show()\n",
        "\n",
        "integral = integrate(integrand, x)\n",
        "integral = simplify(integral)\n",
        "pprint(integral)\n",
        "\n",
        "a_val = 2\n",
        "b_val = 3\n",
        "n = 1000\n",
        "dx = 2*np.pi / n\n",
        "area = 0\n",
        "for i in range(n):\n",
        "    x_val = i * dx\n",
        "    area += dx * integrand.subs([(a, a_val), (b, b_val), (x, x_val)]).evalf()\n",
        "print(f\"The rectangular method approximation with n={n} is: {area}\")\n",
        "\n",
        "a_val = 2\n",
        "b_val = 3\n",
        "n = 100000\n",
        "x_min = 0\n",
        "x_max = 2*np.pi\n",
        "y_min = 0\n",
        "y_max = max(y_vals)\n",
        "\n",
        "area = 0\n",
        "for i in range(n):\n",
        "    x_val = np.random.uniform(x_min, x_max)\n",
        "    y_val = np.random.uniform(y_min, y_max)\n",
        "    if y_val <= func(x_val):\n",
        "        area += 1\n",
        "\n",
        "area_ratio = area / n\n",
        "integral = area_ratio * (x_max - x_min) * (y_max - y_min)\n",
        "\n",
        "print(f\"The Monte Carlo approximation with n={n} is: {integral}\")\n"
      ],
      "metadata": {
        "colab": {
          "base_uri": "https://localhost:8080/",
          "height": 430
        },
        "id": "K2H3bdgcwcjp",
        "outputId": "f6c9b845-40f3-47ec-b297-7f892798fd3c"
      },
      "execution_count": null,
      "outputs": [
        {
          "output_type": "display_data",
          "data": {
            "text/plain": [
              "<Figure size 640x480 with 1 Axes>"
            ],
            "image/png": "[encoded data removed]"
          },
          "metadata": {}
        }
      ]
    },
    {
      "cell_type": "markdown",
      "source": [
        "4. $\\int_0^{\\infty} \\frac{\\cos ^{-1}(2 x)}{1+x^2} d x$"
      ],
      "metadata": {
        "id": "PfpdyMYzxxnh"
      }
    },
    {
      "cell_type": "code",
      "source": [
        "from sympy import *\n",
        "import matplotlib.pyplot as plt\n",
        "import numpy as np\n",
        "\n",
        "x, a = symbols('x a')\n",
        "integrand = acos(2*x) / (1 + x**2)\n",
        "func = lambdify(x, integrand.subs([(a, 1)]), 'numpy')\n",
        "x_vals = np.linspace(0, 10, 1000)\n",
        "y_vals = func(x_vals)\n",
        "plt.plot(x_vals, y_vals)\n",
        "plt.show()\n",
        "\n",
        "n = 1000\n",
        "dx = 10 / n\n",
        "area = 0\n",
        "for i in range(n):\n",
        "    x_val = i * dx\n",
        "    area += dx * integrand.subs([(a, 1), (x, x_val)]).evalf()\n",
        "print(f\"The rectangular method approximation with n={n} is: {area}\")\n",
        "\n",
        "n = 100000\n",
        "x_min = 0\n",
        "x_max = 10\n",
        "y_min = 0\n",
        "y_max = max(y_vals) \n",
        "\n",
        "area = 0\n",
        "for i in range(n):\n",
        "    x_val = np.random.uniform(x_min, x_max)\n",
        "    y_val = np.random.uniform(y_min, y_max)\n",
        "    if y_val <= func(x_val):\n",
        "        area += 1\n",
        "\n",
        "area_ratio = area / n\n",
        "integral = area_ratio * (x_max - x_min) * (y_max - y_min)\n",
        "\n",
        "print(f\"The Monte Carlo approximation with n={n} is: {integral}\")\n"
      ],
      "metadata": {
        "id": "aQ6o0UNnxI_X"
      },
      "execution_count": null,
      "outputs": []
    },
    {
      "cell_type": "markdown",
      "source": [
        "5. $\\int_{-1}^2 x e^{6 x} d x$"
      ],
      "metadata": {
        "id": "J0VM0-3Ox0r-"
      }
    },
    {
      "cell_type": "code",
      "source": [
        "from sympy import *\n",
        "import matplotlib.pyplot as plt\n",
        "import numpy as np\n",
        "\n",
        "x = symbols('x')\n",
        "integrand = x*exp(6*x)\n",
        "func = lambdify(x, integrand, 'numpy')\n",
        "x_vals = np.linspace(-1, 2, 1000)\n",
        "y_vals = func(x_vals)\n",
        "plt.plot(x_vals, y_vals)\n",
        "plt.show()\n",
        "\n",
        "integral = integrate(integrand, (x, -1, 2))\n",
        "integral = simplify(integral)\n",
        "pprint(integral)\n",
        "\n",
        "n = 1000\n",
        "dx = 3 / n\n",
        "area = 0\n",
        "for i in range(n):\n",
        "    x_val = -1 + i * dx\n",
        "    area += dx * integrand.subs(x, x_val).evalf()\n",
        "print(f\"The rectangular method approximation with n={n} is: {area}\")\n",
        "\n",
        "n = 100000\n",
        "x_min = -1\n",
        "x_max = 2\n",
        "y_min = 0\n",
        "y_max = max(y_vals) \n",
        "\n",
        "area = 0\n",
        "for i in range(n):\n",
        "    x_val = np.random.uniform(x_min, x_max)\n",
        "    y_val = np.random.uniform(y_min, y_max)\n",
        "    if y_val <= func(x_val):\n",
        "        area += 1\n",
        "\n",
        "area_ratio = area / n\n",
        "integral = area_ratio * (x_max - x_min) * (y_max - y_min)\n",
        "\n",
        "print(f\"The Monte Carlo approximation with n={n} is: {integral}\")\n"
      ],
      "metadata": {
        "id": "Kv5I1I7MxXur"
      },
      "execution_count": null,
      "outputs": []
    }
  ]
}