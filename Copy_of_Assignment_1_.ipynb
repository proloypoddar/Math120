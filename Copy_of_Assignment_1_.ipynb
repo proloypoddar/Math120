{
  "nbformat": 4,
  "nbformat_minor": 0,
  "metadata": {
    "colab": {
      "provenance": []
    },
    "kernelspec": {
      "name": "python3",
      "display_name": "Python 3"
    },
    "language_info": {
      "name": "python"
    }
  },
  "cells": [
    {
      "cell_type": "markdown",
      "source": [
        "#  MAT120 Lab - Assignment 1 \n",
        "*   Name: Polok Poddar \n",
        "*   ID: 21301644\n",
        "*  Section: 05\n",
        "\n",
        "\n",
        "\n",
        "\n",
        "Copy this colab file, write your name and ID and Submit as a attachment file in the assignment section. Use your BracU g-suit. Run all the code blocks before submission. Be careful of deadline. "
      ],
      "metadata": {
        "id": "wrmxPgsRfml6"
      }
    },
    {
      "cell_type": "markdown",
      "source": [
        "\n",
        "Find the darivative of flowing fuctions,  evaluatae all these fuctions at $x=0$ and $x=2$.  Then plot\n",
        "1. $y=9 x^3-7 x^2+3 x+10$ in the interval $[-50,60]$\n",
        "2. $y=\\ln x[6,100]$\n",
        "3. $y=\\sin x[20,60]$\n",
        "4. $y=\\cos x[-50,60]$\n",
        "5. $y=\\tan x[-50,60]$\n",
        "\n",
        "NB:  You can mane more than one code block for each function. However use appropiate text block and comment to explane your codes. \n"
      ],
      "metadata": {
        "id": "zlVlEUrcgseo"
      }
    },
    {
      "cell_type": "code",
      "source": [
        "#y=9x3−7x2+3x+10  in the interval  [−50,60]\n",
        "from sympy import*\n",
        "import numpy as np\n",
        "import matplotlib.pyplot as pt\n",
        "x=symbols(\"x\")\n",
        "y=9*x**3 - 7*x**2 + 3*x + 10\n",
        "dev_y=diff(y,x)\n",
        "eq_1=y.subs(x,0)\n",
        "eq_2=y.subs(x,2)\n",
        "#Plot the function\n",
        "lst_x=[]\n",
        "lst_y=[]\n",
        "for i in range(-50,60):\n",
        "    lst_x.append(i)\n",
        "    m=y.subs(x,i)\n",
        "    lst_y.append(m)\n",
        "\n",
        "print(\"Darivative of flowing fuctions:\",dev_y)\n",
        "print(\"y(0):\",eq_1)\n",
        "print(\"y(2):\",eq_2)\n",
        "pt.title(\"9*x**3 - 7*x**2 + 3*x + 10\")\n",
        "pt.plot(lst_x,lst_y)\n",
        "pt.show()"
      ],
      "metadata": {
        "id": "ixFZ1f6urS-v"
      },
      "execution_count": null,
      "outputs": []
    },
    {
      "cell_type": "code",
      "source": [
        "#y=lnx[6,100]\n",
        "from sympy import*\n",
        "import numpy as np\n",
        "import matplotlib.pyplot as pt\n",
        "x=symbols(\"x\")\n",
        "y=ln(x)\n",
        "dev_y=diff(y,x)\n",
        "eq_1=y.subs(x,0)\n",
        "eq_2=y.subs(x,2)\n",
        "#Plot the function\n",
        "lst_x=[]\n",
        "lst_y=[]\n",
        "for i in range(6,100):\n",
        "    lst_x.append(i)\n",
        "    m=y.subs(x,i)\n",
        "    lst_y.append(m)\n",
        "\n",
        "print(\"Darivative of flowing fuctions:\",dev_y)\n",
        "print(\"y(0):\",eq_1)\n",
        "print(\"y(2):\",eq_2)\n",
        "pt.title(\"y=ln(x)\")\n",
        "pt.plot(lst_x,lst_y)\n",
        "pt.show()"
      ],
      "metadata": {
        "id": "dd0I6dFSvssw"
      },
      "execution_count": null,
      "outputs": []
    },
    {
      "cell_type": "code",
      "source": [
        "#y=sinx[20,60]\n",
        "from sympy import*\n",
        "import numpy as np\n",
        "import matplotlib.pyplot as pt\n",
        "x=symbols(\"x\")\n",
        "y=sin(x)\n",
        "dev_y=diff(y,x)\n",
        "eq_1=y.subs(x,0)\n",
        "eq_2=y.subs(x,2)\n",
        "#Plot the function\n",
        "lst_x=[]\n",
        "lst_y=[]\n",
        "for i in range(20,60):\n",
        "    lst_x.append(i)\n",
        "    m=y.subs(x,i)\n",
        "    lst_y.append(m)\n",
        "\n",
        "print(\"Darivative of flowing fuctions:\",dev_y)\n",
        "print(\"y(0):\",eq_1)\n",
        "print(\"y(2):\",eq_2)\n",
        "pt.title(\"y=sin(x)\")\n",
        "pt.plot(lst_x,lst_y)\n",
        "pt.show()"
      ],
      "metadata": {
        "id": "SmZfhD_R0iZl"
      },
      "execution_count": null,
      "outputs": []
    },
    {
      "cell_type": "code",
      "source": [
        "#y=cosx[−50,60]\n",
        "from sympy import*\n",
        "import numpy as np\n",
        "import matplotlib.pyplot as pt\n",
        "x=symbols(\"x\")\n",
        "y=cos(x)\n",
        "dev_y=diff(y,x)\n",
        "eq_1=y.subs(x,0)\n",
        "eq_2=y.subs(x,2)\n",
        "#Plot the function\n",
        "lst_x=[]\n",
        "lst_y=[]\n",
        "for i in range(-50,60):\n",
        "    lst_x.append(i)\n",
        "    m=y.subs(x,i)\n",
        "    lst_y.append(m)\n",
        "\n",
        "print(\"Darivative of flowing fuctions:\",dev_y)\n",
        "print(\"y(0):\",eq_1)\n",
        "print(\"y(2):\",eq_2)\n",
        "pt.title(\"y=cos(x)\")\n",
        "pt.plot(lst_x,lst_y)\n",
        "pt.show()"
      ],
      "metadata": {
        "id": "G8yTcO-41JMr"
      },
      "execution_count": null,
      "outputs": []
    },
    {
      "cell_type": "code",
      "source": [
        "#y=tanx[−50,60]\n",
        "\n",
        "from sympy import*\n",
        "import numpy as np\n",
        "import matplotlib.pyplot as pt\n",
        "x=symbols(\"x\")\n",
        "y=tan(x)\n",
        "dev_y=diff(y,x)\n",
        "eq_1=y.subs(x,0)\n",
        "eq_2=y.subs(x,2)\n",
        "#Plot the function\n",
        "lst_x=[]\n",
        "lst_y=[]\n",
        "for i in range(-50,60):\n",
        "    lst_x.append(i)\n",
        "    m=y.subs(x,i)\n",
        "    lst_y.append(m)\n",
        "\n",
        "print(\"Darivative of flowing fuctions:\",dev_y)\n",
        "print(\"y(0):\",eq_1)\n",
        "print(\"y(2):\",eq_2)\n",
        "pt.title(\"y=tan(x)\")\n",
        "pt.plot(lst_x,lst_y)\n",
        "pt.show()"
      ],
      "metadata": {
        "id": "owNHtwpx1xRE"
      },
      "execution_count": null,
      "outputs": []
    },
    {
      "cell_type": "markdown",
      "source": [
        "\n",
        "To learn how to evaluate limit check out Sympy documentation: https://docs.sympy.org/latest/tutorials/intro-tutorial/calculus.html#limits\n",
        "\n",
        "\n",
        "Evaluate following limits: \n",
        "\n",
        "1.  $ \\lim_{x \\to \\pi} \\sin(x/2+ \\sin(x))$\n",
        "2.   $ \\lim_{x \\to 0^+} \\frac{2e^{1/x}}{e^{1/x}+1} $\n",
        "3. $ \\lim_{x \\to 0^-} \\frac{2e^{1/x}}{e^{1/x}+1} $\n",
        "4. $ \\lim_{x \\to \\infty} \\frac{\\cos(x)-1}{x} $\n",
        "\n",
        "\n"
      ],
      "metadata": {
        "id": "91ooZw32iSyq"
      }
    },
    {
      "cell_type": "markdown",
      "source": [
        " $ \\lim_{x \\to \\pi} \\sin(x/2+ \\sin(x))$"
      ],
      "metadata": {
        "id": "qd7Fi8XS2CTa"
      }
    },
    {
      "cell_type": "code",
      "source": [
        "from sym"
      ],
      "metadata": {
        "id": "xTs4Spe62IWv"
      },
      "execution_count": null,
      "outputs": []
    }
  ]
}